{
 "cells": [
  {
   "cell_type": "code",
   "execution_count": 1,
   "id": "b3941e20",
   "metadata": {},
   "outputs": [
    {
     "name": "stdout",
     "output_type": "stream",
     "text": [
      "1\n",
      "3\n",
      "5\n",
      "7\n",
      "9\n",
      "11\n",
      "13\n",
      "15\n",
      "17\n",
      "19\n",
      "21\n",
      "23\n",
      "25\n",
      "27\n",
      "29\n",
      "31\n",
      "33\n",
      "35\n",
      "37\n",
      "39\n",
      "41\n",
      "43\n",
      "45\n",
      "47\n",
      "49\n",
      "51\n",
      "53\n",
      "55\n",
      "57\n",
      "59\n",
      "61\n",
      "63\n",
      "65\n",
      "67\n",
      "69\n",
      "71\n",
      "73\n",
      "75\n",
      "77\n",
      "79\n",
      "81\n",
      "83\n",
      "85\n",
      "87\n",
      "89\n",
      "91\n",
      "93\n",
      "95\n",
      "97\n",
      "99\n",
      "58435841445947272053455474390625\n"
     ]
    }
   ],
   "source": [
    "result=1\n",
    "for i in range(100):\n",
    "    if i%2==1:\n",
    "        print(i)\n",
    "        if i<=50:\n",
    "            result=result*i\n",
    "            \n",
    "print(result)\n",
    "        "
   ]
  },
  {
   "cell_type": "code",
   "execution_count": 2,
   "id": "1c4423af",
   "metadata": {},
   "outputs": [
    {
     "name": "stdout",
     "output_type": "stream",
     "text": [
      "5\n",
      "4\n",
      "3\n",
      "2\n",
      "1\n"
     ]
    }
   ],
   "source": [
    "l=[1,2,3,4,5]\n",
    "for i in range(5):\n",
    "    print(l[4-i])"
   ]
  },
  {
   "cell_type": "code",
   "execution_count": 3,
   "id": "699fab4d",
   "metadata": {},
   "outputs": [
    {
     "name": "stdout",
     "output_type": "stream",
     "text": [
      "5\n",
      "4\n",
      "3\n",
      "2\n",
      "1\n"
     ]
    }
   ],
   "source": [
    "l=[1,2,3,4,5]\n",
    "i=0\n",
    "while i<=4:\n",
    "    print(l[4-i])\n",
    "    i=i+1\n",
    "    "
   ]
  },
  {
   "cell_type": "code",
   "execution_count": 4,
   "id": "62051436",
   "metadata": {},
   "outputs": [
    {
     "name": "stdout",
     "output_type": "stream",
     "text": [
      "[5, 4, 3, 2, 1]\n"
     ]
    }
   ],
   "source": [
    "l=[1,2,3,4,5]\n",
    "print(l[-1:-6:-1])"
   ]
  },
  {
   "cell_type": "code",
   "execution_count": 2,
   "id": "032191ca",
   "metadata": {},
   "outputs": [
    {
     "name": "stdout",
     "output_type": "stream",
     "text": [
      "ihhiiiiiiiiiijjj\n",
      "i\n",
      "h\n",
      "2\n",
      "h\n",
      "i\n",
      "2\n",
      "3\n",
      "4\n",
      "5\n",
      "6\n",
      "7\n",
      "8\n",
      "9\n",
      "10\n",
      "i\n",
      "2\n",
      "3\n",
      "4\n",
      "5\n",
      "6\n",
      "7\n",
      "8\n",
      "9\n",
      "i\n",
      "2\n",
      "3\n",
      "4\n",
      "5\n",
      "6\n",
      "7\n",
      "8\n",
      "i\n",
      "2\n",
      "3\n",
      "4\n",
      "5\n",
      "6\n",
      "7\n",
      "i\n",
      "2\n",
      "3\n",
      "4\n",
      "5\n",
      "6\n",
      "i\n",
      "2\n",
      "3\n",
      "4\n",
      "5\n",
      "i\n",
      "2\n",
      "3\n",
      "4\n",
      "i\n",
      "2\n",
      "3\n",
      "i\n",
      "2\n",
      "i\n",
      "j\n",
      "2\n",
      "3\n"
     ]
    },
    {
     "ename": "IndexError",
     "evalue": "list index out of range",
     "output_type": "error",
     "traceback": [
      "\u001b[1;31m---------------------------------------------------------------------------\u001b[0m",
      "\u001b[1;31mIndexError\u001b[0m                                Traceback (most recent call last)",
      "Input \u001b[1;32mIn [2]\u001b[0m, in \u001b[0;36m<cell line: 5>\u001b[1;34m()\u001b[0m\n\u001b[0;32m      9\u001b[0m a2[i]\u001b[38;5;241m=\u001b[39m\u001b[38;5;241m0\u001b[39m\n\u001b[0;32m     10\u001b[0m \u001b[38;5;28mprint\u001b[39m(tmp)\n\u001b[1;32m---> 11\u001b[0m \u001b[38;5;28;01mwhile\u001b[39;00m tmp\u001b[38;5;241m==\u001b[39m\u001b[43ma2\u001b[49m\u001b[43m[\u001b[49m\u001b[43mi\u001b[49m\u001b[38;5;241;43m+\u001b[39;49m\u001b[38;5;241;43m1\u001b[39;49m\u001b[43m]\u001b[49m:\n\u001b[0;32m     12\u001b[0m     count\u001b[38;5;241m=\u001b[39mcount\u001b[38;5;241m+\u001b[39m\u001b[38;5;241m1\u001b[39m\n\u001b[0;32m     13\u001b[0m     \u001b[38;5;28mprint\u001b[39m(count)\n",
      "\u001b[1;31mIndexError\u001b[0m: list index out of range"
     ]
    }
   ],
   "source": [
    "s=input()\n",
    "length=len(s)\n",
    "a=list(s)\n",
    "max=0\n",
    "for i in range(length-2):\n",
    "    count=1\n",
    "    a2=a.copy()\n",
    "    tmp=a2[i]\n",
    "    a2[i]=0\n",
    "    print(tmp)\n",
    "    while tmp==a2[i+1]:\n",
    "        count=count+1\n",
    "        print(count)\n",
    "        a2[i+1]=0\n",
    "        i=i+1\n",
    "        if (i)>length:\n",
    "            break\n",
    "    if max<count:\n",
    "        max=count\n",
    "print(max)\n",
    "        "
   ]
  },
  {
   "cell_type": "code",
   "execution_count": null,
   "id": "769df1e2",
   "metadata": {},
   "outputs": [],
   "source": [
    "string=input()\n",
    "print(string.replace(\" \",\"\"))"
   ]
  },
  {
   "cell_type": "code",
   "execution_count": null,
   "id": "9f1bb691",
   "metadata": {},
   "outputs": [],
   "source": [
    "import random\n",
    "import math\n",
    "S = 1*2\n",
    "N = 100000\n",
    "C = 0\n",
    "for i in range(N):\n",
    "    x = random.uniform(0,1)\n",
    "    y = random.uniform(0,2)\n",
    "    if y <= x*x+x*x*x:\n",
    "        C += 1\n",
    "        I = C / N * S\n",
    "print(I)"
   ]
  },
  {
   "cell_type": "code",
   "execution_count": null,
   "id": "2d9e2c19",
   "metadata": {},
   "outputs": [],
   "source": [
    "import math\n",
    "c=2\n",
    "for i in range(2):\n",
    "    #print(i)\n",
    "    if pow(i,2)<2 and pow(i+1,2)>2:\n",
    "        ans=i\n",
    "        break\n",
    "ans=float(ans)\n",
    "#print(pow(ans,2))\n",
    "while abs(pow(ans,2)-2)>=0.001:\n",
    "            ans=ans+0.0001\n",
    "print(ans)"
   ]
  },
  {
   "cell_type": "code",
   "execution_count": 9,
   "id": "87976bb9",
   "metadata": {},
   "outputs": [
    {
     "name": "stdout",
     "output_type": "stream",
     "text": [
      "1.4142135605216026\n"
     ]
    }
   ],
   "source": [
    "c=2\n",
    "m_max=c\n",
    "m_min=0\n",
    "g=(m_min+m_max)/2\n",
    "#print(1)\n",
    "while (abs(pow(g,2)-c)>0.00000001):\n",
    "    if(pow(g,2)<c):\n",
    "        m_min=g\n",
    "    else:\n",
    "        m_max=g\n",
    "    g=(m_min+m_max)/2\n",
    "print(g)"
   ]
  },
  {
   "cell_type": "markdown",
   "id": "4bac8eb7",
   "metadata": {},
   "source": []
  },
  {
   "cell_type": "code",
   "execution_count": 10,
   "id": "b6a5d1b4",
   "metadata": {},
   "outputs": [
    {
     "name": "stdout",
     "output_type": "stream",
     "text": [
      "1.4142135623746899\n"
     ]
    }
   ],
   "source": [
    "c=2\n",
    "g=c/2\n",
    "while (abs(pow(g,2)-c)>0.000000001):\n",
    "    g=(g+c/g)/2\n",
    "    i=i+1\n",
    "print(g)"
   ]
  },
  {
   "cell_type": "code",
   "execution_count": 5,
   "id": "5eb64d3e",
   "metadata": {},
   "outputs": [
    {
     "name": "stdout",
     "output_type": "stream",
     "text": [
      "3.141592653447635\n"
     ]
    }
   ],
   "source": [
    "def PI(number):                    #Π/2=1+1/3+1/3*2/5+1/3*2/5*3/7+……\n",
    "    sn = 1\n",
    "    for i in range(2,number+1):\n",
    "        n=(i-1)/(2*i-1)\n",
    "        sn*=n\n",
    "    return sn\n",
    "a=0.0000000001\n",
    "i=1\n",
    "sum=1\n",
    "x=1\n",
    "while x>a:   #精度确认\n",
    "    i+=1\n",
    "    x=PI(i)\n",
    "    #print(x)\n",
    "    sum += x\n",
    "\n",
    "print(sum*2)\n",
    " "
   ]
  },
  {
   "cell_type": "code",
   "execution_count": null,
   "id": "6c97b5c1",
   "metadata": {},
   "outputs": [],
   "source": [
    "#蒙特卡罗法（统计试验法）\n",
    "import random # 导入随机模块\n",
    "S = 100000000 # 变量S为试验总次数（值设置得越大，PI的计算越准确，即频率越逼近于概率）\n",
    "N = 0 # 变量N用于统计落在圆内的试验点的个数\n",
    "for i in range(int(S)):\n",
    "    #print(1)\n",
    "    x = random.random() # 获取0-1之间的随机数\n",
    "    y = random.random() # 获取0-1之间的随机数\n",
    "    d = (x-0.5)**2+(y-0.5)**2 # 计算试验点到圆心的欧式距离的平方\n",
    "    if d<=0.5**2: # 通过比较试验点到圆心的欧式距离与圆半径的大小，判断该点是否在圆内\n",
    "        N+=1\n",
    "    else:\n",
    "        pass\n",
    "PI = 4*N/S\n",
    "print(PI)\n"
   ]
  },
  {
   "cell_type": "code",
   "execution_count": 1,
   "id": "8b291c3d",
   "metadata": {},
   "outputs": [
    {
     "name": "stdout",
     "output_type": "stream",
     "text": [
      "-0.06415002990995845\n",
      "0.5132002392796674\n",
      "0.012830005981991693\n",
      "0.5260302452616591\n",
      "-0.003054763329045642\n",
      "0.5229754819326135\n",
      "0.0007919756779007222\n",
      "0.5237674576105141\n",
      "-0.00021599336670019703\n",
      "0.5235514642438139\n",
      "6.092120599236328e-05\n",
      "0.5236123854498063\n",
      "-1.759945950890495e-05\n",
      "0.5235947859902974\n",
      "5.176311620266163e-06\n",
      "0.5235999623019176\n",
      "-1.5438122376232422e-06\n",
      "0.52359841848968\n",
      "4.655941669022478e-07\n",
      "0.5235988840838469\n",
      "-1.4170257253546674e-07\n",
      "0.5235987423812744\n",
      "4.345545557754315e-08\n",
      "0.5235987858367299\n",
      "-1.3412177647389864e-08\n",
      "0.5235987724245522\n",
      "4.1623999595347864e-09\n",
      "0.5235987765869522\n",
      "-1.2979526755538585e-09\n",
      "0.5235987752889996\n",
      "4.064296256784811e-10\n",
      "0.5235987756954292\n",
      "3.1415926541725754\n"
     ]
    }
   ],
   "source": [
    "# Π=2*arctan(1/根号3)\n",
    "import math\n",
    "y=1/math.sqrt(3)\n",
    "#print(y)\n",
    "def PI(number):\n",
    "    sn=0\n",
    "    for i in range(2, number+1):\n",
    "        n = pow(-1, i-1)\n",
    "        tmp=pow(y,2*i-1)/(2*i-1)\n",
    "        sn=n*tmp\n",
    "    return sn\n",
    "\n",
    "\n",
    "a = 0.000000001\n",
    "i = 1\n",
    "sum = y\n",
    "x = 1\n",
    "while abs(x) > a:\n",
    "    i = i + 1\n",
    "    x = PI(i)\n",
    "    print(x)\n",
    "    sum = sum + x\n",
    "    print(sum)\n",
    "\n",
    "print(sum * 6)\n",
    "\n"
   ]
  },
  {
   "cell_type": "code",
   "execution_count": null,
   "id": "a3784569",
   "metadata": {},
   "outputs": [],
   "source": []
  }
 ],
 "metadata": {
  "kernelspec": {
   "display_name": "Python 3 (ipykernel)",
   "language": "python",
   "name": "python3"
  },
  "language_info": {
   "codemirror_mode": {
    "name": "ipython",
    "version": 3
   },
   "file_extension": ".py",
   "mimetype": "text/x-python",
   "name": "python",
   "nbconvert_exporter": "python",
   "pygments_lexer": "ipython3",
   "version": "3.8.13"
  }
 },
 "nbformat": 4,
 "nbformat_minor": 5
}
