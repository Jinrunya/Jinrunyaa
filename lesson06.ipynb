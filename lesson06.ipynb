{
 "cells": [
  {
   "cell_type": "markdown",
   "id": "5063e264",
   "metadata": {},
   "source": [
    "抱歉作业在后面几个方块里 在程序开头注释了"
   ]
  },
  {
   "cell_type": "code",
   "execution_count": 3,
   "id": "5f36bca8",
   "metadata": {},
   "outputs": [
    {
     "name": "stdout",
     "output_type": "stream",
     "text": [
      "-----------执行开始----------\n",
      "100%[**************************************************->]5.43s\n",
      "-----------执行结束----------\n"
     ]
    }
   ],
   "source": [
    "import time\n",
    "\n",
    "scale = 50 \n",
    "\n",
    "print(\"执行开始\".center(scale//2,\"-\"))  # .center() 控制输出的样式，汉字居中，两侧填充 -\n",
    "\n",
    "start = time.perf_counter() # 调用一次 perf_counter()，从计算机系统里随机选一个时间点A，计算其距离当前时间点B1有多少秒。当第二次调用该函数时，默认从第一次调用的时间点A算起，距离当前时间点B2有多少秒。两个函数取差，即实现从时间点B1到B2的计时功能。\n",
    "for i in range(scale+1):   \n",
    "    a = '*' * i             # i 个长度的 * 符号\n",
    "    b = '.' * (scale-i)  # scale-i） 个长度的 . 符号。符号 * 和 . 总长度为50 \n",
    "    c = (i/scale)*100  # 显示当前进度，百分之多少\n",
    "    dur = time.perf_counter() - start    # 计时，计算进度条走到某一百分比的用时\n",
    "    print(\"\\r{:^3.0f}%[{}->{}]{:.2f}s\".format(c,a,b,dur),end='')  # \\r用来在每次输出完成后，将光标移至行首，这样保证进度条始终在同一行输出，即在一行不断刷新的效果；{:^3.0f}，输出格式为居中，占3位，小数点后0位，浮点型数，对应输出的数为c；{}，对应输出的数为a；{}，对应输出的数为b；{:.2f}，输出有两位小数的浮点数，对应输出的数为dur；end=''，用来保证不换行，不加这句默认换行。\n",
    "    time.sleep(0.1)     # 在输出下一个百分之几的进度前，停止0.1秒\n",
    "print(\"\\n\"+\"执行结束\".center(scale//2,'-'))"
   ]
  },
  {
   "cell_type": "code",
   "execution_count": 6,
   "id": "4492ffce",
   "metadata": {},
   "outputs": [
    {
     "name": "stdout",
     "output_type": "stream",
     "text": [
      "1666076564.425107\n"
     ]
    }
   ],
   "source": [
    "import time\n",
    "t1 = time.time()\n",
    "print(t1)"
   ]
  },
  {
   "cell_type": "code",
   "execution_count": 7,
   "id": "98dad10b",
   "metadata": {},
   "outputs": [
    {
     "name": "stdout",
     "output_type": "stream",
     "text": [
      "Tue Oct 18 15:03:51 2022\n"
     ]
    }
   ],
   "source": [
    "t3 = time.asctime(time.localtime())\n",
    "print(t3)"
   ]
  },
  {
   "cell_type": "code",
   "execution_count": 8,
   "id": "7e234181",
   "metadata": {},
   "outputs": [
    {
     "name": "stdout",
     "output_type": "stream",
     "text": [
      "2022/10/18 15:06:28\n"
     ]
    }
   ],
   "source": [
    "t4 = time.strftime(\"%Y/%m/%d %H:%M:%S\",time.localtime())\n",
    "print(t4)"
   ]
  },
  {
   "cell_type": "code",
   "execution_count": 13,
   "id": "d5af4706",
   "metadata": {},
   "outputs": [
    {
     "name": "stdout",
     "output_type": "stream",
     "text": [
      "没错你是个明白人我明白你明白的意思。我也是明白人明白人就应该明白我明白你明白的意思\n",
      "只要大家都明白明白人应明白我明白你明白的意思这样网络环境就是充满明白人明白其他明白\n",
      "所明白的事\n"
     ]
    }
   ],
   "source": [
    "f1 = open('C:\\\\Users\\\\vip\\\\Desktop\\\\CODES\\\\hello.txt','r',encoding='UTF-8')\n",
    "s = f1.read()\n",
    "print(s)"
   ]
  },
  {
   "cell_type": "code",
   "execution_count": 17,
   "id": "a07560a9",
   "metadata": {
    "scrolled": true
   },
   "outputs": [
    {
     "name": "stdout",
     "output_type": "stream",
     "text": [
      "只要大家都明白明白人应明白我明白你明白的意思这样网络环境就是充满明白人明白其他明白\n",
      "\n",
      "\n"
     ]
    }
   ],
   "source": [
    "f1 = open('C:\\\\Users\\\\vip\\\\Desktop\\\\CODES\\\\hello.txt','r',encoding='UTF-8')\n",
    "for line in f1:\n",
    "    print(f1.readline())\n",
    "    line = line.strip()  # 去除行末地换行符，因为下一行print函数默认结尾输出一个换行符，如果不去除的话会输出两个换行符（行末+print默认输出的换行符），造成多余空行现象。\n",
    "    # 如果不使用strip()方法，也可以设置print函数的默认输出为空字符"
   ]
  },
  {
   "cell_type": "code",
   "execution_count": 28,
   "id": "4788ac99",
   "metadata": {},
   "outputs": [
    {
     "name": "stdout",
     "output_type": "stream",
     "text": [
      "没错你是个明白人我明白你明白的意思。我也是明白人明白人就应该明白我明白你明白的意思\n",
      "只要大家都明白明白人应明白我明白你明白的意思这样网络环境就是充满明白人明白其他明白\n"
     ]
    }
   ],
   "source": [
    "##-------作业1-------readline()####\n",
    "f1 = open('C:\\\\Users\\\\vip\\\\Desktop\\\\CODES\\\\hello.txt','r',encoding='UTF-8')\n",
    "f1.seek(0)  # 将文件指针移动至文件起始点\n",
    "for i in range(2):\n",
    "    s = f1.readline()\n",
    "    print(s,end='')  # 需要注意的是，print方法默认在最后输出一个换行符，由于readline方法读取的一行最后已经含有一个换行符，我们在print方法中需要指定输出后末尾再输出空"
   ]
  },
  {
   "cell_type": "code",
   "execution_count": 29,
   "id": "e3abb308",
   "metadata": {},
   "outputs": [
    {
     "name": "stdout",
     "output_type": "stream",
     "text": [
      "['没错你是个明白人我明白你明白的意思。我也是明白人明白人就应该明白我明白你明白的意思\\n', '只要大家都明白明白人应明白我明白你明白的意思这样网络环境就是充满明白人明白其他明白\\n', '所明白的事'][]"
     ]
    }
   ],
   "source": [
    "##-------作业1-------readlines()####\n",
    "f1 = open('C:\\\\Users\\\\vip\\\\Desktop\\\\CODES\\\\hello.txt','r',encoding='UTF-8')\n",
    "f1.seek(0)  # 将文件指针移动至文件起始点\n",
    "for i in range(2):\n",
    "    s = f1.readlines() #readlines()会被换行符也print出来\n",
    "    print(s,end='')  # 需要注意的是，print方法默认在最后输出一个换行符，由于readline方法读取的一行最后已经含有一个换行符，我们在print方法中需要指定输出后末尾再输出空"
   ]
  },
  {
   "cell_type": "code",
   "execution_count": 20,
   "id": "b21967a3",
   "metadata": {},
   "outputs": [],
   "source": [
    "weather = {'北京':27.2, '天津':26.5, '上海':28.2, '重庆':30.1}\n",
    "f2 = open('C:\\\\Users\\\\vip\\\\Desktop\\\\CODES\\\\weather.txt','w',encoding='UTF-8')\n",
    "for key,value in weather.items():\n",
    "    s = key + ' ' + str(value) + '\\n'\n",
    "    f2.write(s)"
   ]
  },
  {
   "cell_type": "code",
   "execution_count": 34,
   "id": "9500e508",
   "metadata": {},
   "outputs": [
    {
     "name": "stdout",
     "output_type": "stream",
     "text": [
      "['\\ufeff学号', '姓名', '语文', '数学', '英语']\n",
      "['407', '小红', '119', '127', '133']\n",
      "['408', '小陈', '120', '128', '134']\n",
      "['409', '小黄', '121', '129', '135']\n",
      "['410', '小绿', '122', '130', '136']\n",
      "['411', '小蓝', '123', '131', '137']\n"
     ]
    }
   ],
   "source": [
    "##-------作业2.1-------####\n",
    "fr=open(\"C:\\\\Users\\\\vip\\\\Desktop\\\\CODES\\\\stuGrade.csv\",'rt',encoding='UTF-8')\n",
    "fw=open(\"C:\\\\Users\\\\vip\\\\Desktop\\\\CODES\\\\copystuGrade.csv\",'w+',encoding='UTF-8')\n",
    "ls = []\n",
    "for line in fr:\n",
    "    line = line.replace('\\n', '')  # 删除每一行后面的换行符\n",
    "    line = line.split(',')  # 将每行数据以逗号切割成单个字符\n",
    "    ls.append(line)  # 将单个字符追加到列表ls中\n",
    "for row in ls:\n",
    "    fw.write(','.join(row) + '\\n')  # 在row数据里面插入逗号，在每行后面添加换行符\n",
    "    print(row)\n",
    "fr.close()\n",
    "fw.close()\n",
    "fr = open('C:\\\\Users\\\\vip\\\\Desktop\\\\CODES\\\\copystuGrade.csv', 'rt',encoding='UTF-8')\n",
    "fw = open('C:\\\\Users\\\\vip\\\\Desktop\\\\CODES\\\\copystuGrade.txt', 'w+',encoding='UTF-8')\n",
    " \n",
    "ls = []\n",
    " \n",
    "for line in fr:\n",
    "    line = line.replace('\\n', '')  # 删除每行后面的换行符\n",
    "    line = line.split(',')  # 将每行数据以逗号切割成单个字符\n",
    "    ls.append(line)  # 将单个字符追加到列表ls中\n",
    "for row in ls:\n",
    "    fw.write(' '.join(row) + '\\n')\n",
    "fr.close()\n",
    "fw.close()\n"
   ]
  },
  {
   "cell_type": "code",
   "execution_count": 31,
   "id": "e3da9c40",
   "metadata": {},
   "outputs": [
    {
     "ename": "ModuleNotFoundError",
     "evalue": "No module named 'pandas'",
     "output_type": "error",
     "traceback": [
      "\u001b[1;31m---------------------------------------------------------------------------\u001b[0m",
      "\u001b[1;31mModuleNotFoundError\u001b[0m                       Traceback (most recent call last)",
      "Input \u001b[1;32mIn [31]\u001b[0m, in \u001b[0;36m<cell line: 1>\u001b[1;34m()\u001b[0m\n\u001b[1;32m----> 1\u001b[0m \u001b[38;5;28;01mimport\u001b[39;00m \u001b[38;5;21;01mpandas\u001b[39;00m \u001b[38;5;28;01mas\u001b[39;00m \u001b[38;5;21;01mpd\u001b[39;00m\n\u001b[0;32m      2\u001b[0m \u001b[38;5;28;01mimport\u001b[39;00m \u001b[38;5;21;01mnumpy\u001b[39;00m \u001b[38;5;28;01mas\u001b[39;00m \u001b[38;5;21;01mnp\u001b[39;00m\n\u001b[0;32m      3\u001b[0m data_yuwen \u001b[38;5;241m=\u001b[39m pd\u001b[38;5;241m.\u001b[39mread_csv(\u001b[38;5;124m\"\u001b[39m\u001b[38;5;124mC:\u001b[39m\u001b[38;5;130;01m\\\\\u001b[39;00m\u001b[38;5;124mUsers\u001b[39m\u001b[38;5;130;01m\\\\\u001b[39;00m\u001b[38;5;124mvip\u001b[39m\u001b[38;5;130;01m\\\\\u001b[39;00m\u001b[38;5;124mDesktop\u001b[39m\u001b[38;5;130;01m\\\\\u001b[39;00m\u001b[38;5;124mCODES\u001b[39m\u001b[38;5;130;01m\\\\\u001b[39;00m\u001b[38;5;124mstuGrade.csv\u001b[39m\u001b[38;5;124m\"\u001b[39m,usecols\u001b[38;5;241m=\u001b[39m[\u001b[38;5;124m\"\u001b[39m\u001b[38;5;124m语文\u001b[39m\u001b[38;5;124m\"\u001b[39m])\n",
      "\u001b[1;31mModuleNotFoundError\u001b[0m: No module named 'pandas'"
     ]
    }
   ],
   "source": [
    "##-------作业2.2-------####\n",
    "import pandas as pd\n",
    "import numpy as np\n",
    "data_yuwen = pd.read_csv(\"C:\\\\Users\\\\vip\\\\Desktop\\\\CODES\\\\stuGrade.csv\",usecols=[\"语文\"])\n",
    "data_yuwen = np.array(data_yuwen)\n",
    "print(data_yuwen)\n",
    "average=0\n",
    "for i in range(5):\n",
    "    average=average+int(data_yuwen[i])\n",
    "average=average/5\n",
    "print('语文平均分：{:.2f}'.format(average))\n"
   ]
  },
  {
   "cell_type": "code",
   "execution_count": 37,
   "id": "b25b746e",
   "metadata": {},
   "outputs": [
    {
     "ename": "ModuleNotFoundError",
     "evalue": "No module named 'pandas'",
     "output_type": "error",
     "traceback": [
      "\u001b[1;31m---------------------------------------------------------------------------\u001b[0m",
      "\u001b[1;31mModuleNotFoundError\u001b[0m                       Traceback (most recent call last)",
      "Input \u001b[1;32mIn [37]\u001b[0m, in \u001b[0;36m<cell line: 1>\u001b[1;34m()\u001b[0m\n\u001b[1;32m----> 1\u001b[0m \u001b[38;5;28;01mimport\u001b[39;00m \u001b[38;5;21;01mpandas\u001b[39;00m \u001b[38;5;28;01mas\u001b[39;00m \u001b[38;5;21;01mpd\u001b[39;00m\n\u001b[0;32m      2\u001b[0m \u001b[38;5;28;01mimport\u001b[39;00m \u001b[38;5;21;01mnumpy\u001b[39;00m \u001b[38;5;28;01mas\u001b[39;00m \u001b[38;5;21;01mnp\u001b[39;00m\n\u001b[0;32m      3\u001b[0m \u001b[38;5;28;01mimport\u001b[39;00m \u001b[38;5;21;01mtime\u001b[39;00m\n",
      "\u001b[1;31mModuleNotFoundError\u001b[0m: No module named 'pandas'"
     ]
    }
   ],
   "source": [
    "##-------作业3-------####\n",
    "import pandas as pd\n",
    "import numpy as np\n",
    "import time\n",
    "\n",
    "list = []\n",
    "data_yuwen = pd.read_csv(\"C:\\\\Users\\\\vip\\\\Desktop\\\\CODES\\\\stuGrade.csv\", usecols=[\"语文\"])\n",
    "data_yuwen = np.array(data_yuwen)\n",
    "#print(data_yuwen)\n",
    "average1 = 0\n",
    "for i in range(5):\n",
    "    average1 = average1 + int(data_yuwen[i])\n",
    "average1 = average1 / 5\n",
    "list.append(average1)\n",
    "\n",
    "data_shuxue = pd.read_csv(\"C:\\\\Users\\\\vip\\\\Desktop\\\\CODES\\\\stuGrade.csv\", usecols=[\"数学\"])\n",
    "data_shuxue = np.array(data_shuxue)\n",
    "#print(data_shuxue)\n",
    "average2 = 0\n",
    "for i in range(5):\n",
    "    average2 = average2 + int(data_shuxue[i])\n",
    "average2 = average2 / 5\n",
    "list.append(average2)\n",
    "\n",
    "data_yingyu = pd.read_csv(\"C:\\\\Users\\\\vip\\\\Desktop\\\\CODES\\\\stuGrade.csv\", usecols=[\"英语\"])\n",
    "data_yingyu = np.array(data_yingyu)\n",
    "#print(data_yingyu)\n",
    "average3 = 0\n",
    "for i in range(5):\n",
    "    average3 = average3 + int(data_yingyu[i])\n",
    "average3 = average3/ 5\n",
    "list.append(average3)\n",
    "\n",
    "for i in range(3):\n",
    "    print(list[i],end=\" \")\n",
    "\n",
    "f=open(\"C:\\\\Users\\\\vip\\\\Desktop\\\\CODES\\\\test.txt\",\"w+\",encoding=\"UTF-8\")\n",
    "f.writelines(\"10213330407 jry\"+\"\\n\")\n",
    "for i in range(3):\n",
    "    f.writelines(str(list[i])+\",\")\n",
    "f.writelines(\"\\n\")\n",
    "t4 = time.strftime(\"%Y-%m-%d %H:%M:%S\", time.localtime())\n",
    "f.writelines(t4+\"\\n\")\n",
    "time.sleep(2)\n",
    "t5=time.strftime(\"%Y-%m-%d %H:%M:%S\", time.localtime())\n",
    "f.writelines(t5+\"\\n\")\n",
    "f.close()\n",
    "    \n"
   ]
  },
  {
   "cell_type": "code",
   "execution_count": null,
   "id": "3c520271",
   "metadata": {},
   "outputs": [],
   "source": []
  }
 ],
 "metadata": {
  "kernelspec": {
   "display_name": "Python 3 (ipykernel)",
   "language": "python",
   "name": "python3"
  },
  "language_info": {
   "codemirror_mode": {
    "name": "ipython",
    "version": 3
   },
   "file_extension": ".py",
   "mimetype": "text/x-python",
   "name": "python",
   "nbconvert_exporter": "python",
   "pygments_lexer": "ipython3",
   "version": "3.8.13"
  }
 },
 "nbformat": 4,
 "nbformat_minor": 5
}
