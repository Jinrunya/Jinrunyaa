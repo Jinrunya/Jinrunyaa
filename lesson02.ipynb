{
 "cells": [
  {
   "cell_type": "code",
   "execution_count": 8,
   "id": "8d9c5804",
   "metadata": {
    "scrolled": true
   },
   "outputs": [
    {
     "name": "stdout",
     "output_type": "stream",
     "text": [
      "1\n"
     ]
    }
   ],
   "source": [
    "def fraction(a):\n",
    "    result=1\n",
    "    if a==0:\n",
    "        return 1\n",
    "    else:\n",
    "        return fraction(a-1)*a\n",
    "print(fraction(0))"
   ]
  },
  {
   "cell_type": "code",
   "execution_count": 3,
   "id": "d965803c",
   "metadata": {},
   "outputs": [
    {
     "name": "stdout",
     "output_type": "stream",
     "text": [
      "3.0\n"
     ]
    }
   ],
   "source": [
    "import math\n",
    "print(math.pow(27,1/3)) "
   ]
  },
  {
   "cell_type": "code",
   "execution_count": 1,
   "id": "7d63c567",
   "metadata": {},
   "outputs": [
    {
     "name": "stdout",
     "output_type": "stream",
     "text": [
      "6\n"
     ]
    }
   ],
   "source": [
    "def find_incorrect_coin(coins, start_index, end_index):\n",
    "    if end_index == start_index:\n",
    "        return end_index\n",
    "    if end_index - start_index == 1:\n",
    "        return end_index if coins[end_index] < coins[start_index] else start_index\n",
    "    if (end_index - start_index) % 2 == 1:  # 偶数个硬币\n",
    "        mid_index = (end_index + start_index) // 2\n",
    "        left_weight = sum(coins[start_index:mid_index + 1])\n",
    "        right_weight = sum(coins[mid_index + 1:end_index + 1])  #奇偶数都是这样的步骤\n",
    "        if left_weight < right_weight:\n",
    "            return find_incorrect_coin(coins, start_index, mid_index)\n",
    "        else:\n",
    "            return find_incorrect_coin(coins, mid_index + 1, end_index)  #偶数所以要一直迭代判断不能停下来\n",
    "    else:  # 奇数个硬币     奇偶便于计算下标\n",
    "        mid_index = (end_index + start_index) // 2\n",
    "        left_weight = sum(coins[start_index:mid_index])\n",
    "        right_weight = sum(coins[mid_index + 1:end_index + 1] #由中间向两边缩\n",
    "        if left_weight < right_weight:    #轻的那个是有问题的\n",
    "            return find_incorrect_coin(coins, start_index, mid_index - 1)\n",
    "        elif left_weight > right_weight:\n",
    "            return find_incorrect_coin(coins, mid_index + 1, end_index)\n",
    "        else:\n",
    "            return mid_index\n",
    "\n",
    "\n",
    "coins = [2,2,2,2,2,2,1,2,2,2,2,2,2,2,2]\n",
    "result = find_incorrect_coin(coins, 0, len(coins) - 1)\n",
    "print(result)"
   ]
  },
  {
   "cell_type": "code",
   "execution_count": 12,
   "id": "c244b751",
   "metadata": {},
   "outputs": [
    {
     "name": "stdout",
     "output_type": "stream",
     "text": [
      "11.753\n"
     ]
    }
   ],
   "source": [
    "import random\n",
    "import math\n",
    "S = 1*100\n",
    "N = 100000\n",
    "C = 0\n",
    "for i in range(N):\n",
    "    x = random.uniform(2,3)\n",
    "    y = random.uniform(0,100)\n",
    "    if y <= x*x+4*x*math.sin(x):\n",
    "        C += 1\n",
    "        I = C / N * S\n",
    "print(I)"
   ]
  },
  {
   "cell_type": "code",
   "execution_count": null,
   "id": "22e8dd6b",
   "metadata": {},
   "outputs": [],
   "source": []
  },
  {
   "cell_type": "code",
   "execution_count": null,
   "id": "b9f38406",
   "metadata": {},
   "outputs": [],
   "source": []
  }
 ],
 "metadata": {
  "kernelspec": {
   "display_name": "Python 3 (ipykernel)",
   "language": "python",
   "name": "python3"
  },
  "language_info": {
   "codemirror_mode": {
    "name": "ipython",
    "version": 3
   },
   "file_extension": ".py",
   "mimetype": "text/x-python",
   "name": "python",
   "nbconvert_exporter": "python",
   "pygments_lexer": "ipython3",
   "version": "3.8.13"
  }
 },
 "nbformat": 4,
 "nbformat_minor": 5
}
